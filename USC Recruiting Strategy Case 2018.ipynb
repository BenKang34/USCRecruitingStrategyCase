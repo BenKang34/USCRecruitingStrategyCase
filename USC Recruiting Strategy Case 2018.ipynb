{
 "cells": [
  {
   "cell_type": "code",
   "execution_count": 1,
   "metadata": {},
   "outputs": [],
   "source": [
    "%matplotlib inline\n",
    "\n",
    "import pandas as pd\n",
    "import numpy as np\n",
    "\n",
    "import matplotlib\n",
    "import matplotlib.pyplot as plt"
   ]
  },
  {
   "cell_type": "code",
   "execution_count": 2,
   "metadata": {},
   "outputs": [
    {
     "data": {
      "text/html": [
       "<div>\n",
       "<style scoped>\n",
       "    .dataframe tbody tr th:only-of-type {\n",
       "        vertical-align: middle;\n",
       "    }\n",
       "\n",
       "    .dataframe tbody tr th {\n",
       "        vertical-align: top;\n",
       "    }\n",
       "\n",
       "    .dataframe thead th {\n",
       "        text-align: right;\n",
       "    }\n",
       "</style>\n",
       "<table border=\"1\" class=\"dataframe\">\n",
       "  <thead>\n",
       "    <tr style=\"text-align: right;\">\n",
       "      <th></th>\n",
       "      <th>application term</th>\n",
       "      <th>degree posted</th>\n",
       "      <th>application received date</th>\n",
       "      <th>file status completed date</th>\n",
       "      <th>decision date</th>\n",
       "      <th>application cleaned date</th>\n",
       "      <th>deposit received date</th>\n",
       "      <th>department</th>\n",
       "      <th>undergraduate gpa</th>\n",
       "      <th>self reported gpa</th>\n",
       "      <th>...</th>\n",
       "      <th>ready for director review</th>\n",
       "      <th>follow up required</th>\n",
       "      <th>90041_mi</th>\n",
       "      <th>91601_mi</th>\n",
       "      <th>92122_mi</th>\n",
       "      <th>94607_mi</th>\n",
       "      <th>account id</th>\n",
       "      <th>last 60/90 gpa</th>\n",
       "      <th>graduate gpa</th>\n",
       "      <th>temperature</th>\n",
       "    </tr>\n",
       "    <tr>\n",
       "      <th>opportunity id</th>\n",
       "      <th></th>\n",
       "      <th></th>\n",
       "      <th></th>\n",
       "      <th></th>\n",
       "      <th></th>\n",
       "      <th></th>\n",
       "      <th></th>\n",
       "      <th></th>\n",
       "      <th></th>\n",
       "      <th></th>\n",
       "      <th></th>\n",
       "      <th></th>\n",
       "      <th></th>\n",
       "      <th></th>\n",
       "      <th></th>\n",
       "      <th></th>\n",
       "      <th></th>\n",
       "      <th></th>\n",
       "      <th></th>\n",
       "      <th></th>\n",
       "      <th></th>\n",
       "    </tr>\n",
       "  </thead>\n",
       "  <tbody>\n",
       "    <tr>\n",
       "      <th>006a000000ys35ZAAQ</th>\n",
       "      <td>Fall 2013</td>\n",
       "      <td>NaN</td>\n",
       "      <td>2013-01-07</td>\n",
       "      <td>2013-02-12</td>\n",
       "      <td>2013-04-03</td>\n",
       "      <td>2013-05-14</td>\n",
       "      <td>NaT</td>\n",
       "      <td>NaN</td>\n",
       "      <td>0.00</td>\n",
       "      <td>NaN</td>\n",
       "      <td>...</td>\n",
       "      <td>False</td>\n",
       "      <td>False</td>\n",
       "      <td>26.135814</td>\n",
       "      <td>27.001180</td>\n",
       "      <td>91.506402</td>\n",
       "      <td>356.534872</td>\n",
       "      <td>001a000001Hv8cmAAB</td>\n",
       "      <td>0.0</td>\n",
       "      <td>NaN</td>\n",
       "      <td>NaN</td>\n",
       "    </tr>\n",
       "    <tr>\n",
       "      <th>006a000000ys34TAAQ</th>\n",
       "      <td>Fall 2013</td>\n",
       "      <td>2010-05-21 00:00:00</td>\n",
       "      <td>2013-01-11</td>\n",
       "      <td>2013-01-29</td>\n",
       "      <td>2013-04-03</td>\n",
       "      <td>2013-05-14</td>\n",
       "      <td>2013-04-23</td>\n",
       "      <td>NaN</td>\n",
       "      <td>0.00</td>\n",
       "      <td>NaN</td>\n",
       "      <td>...</td>\n",
       "      <td>False</td>\n",
       "      <td>False</td>\n",
       "      <td>8.607256</td>\n",
       "      <td>18.507157</td>\n",
       "      <td>100.492801</td>\n",
       "      <td>348.467633</td>\n",
       "      <td>001a000001Hv8beAAB</td>\n",
       "      <td>0.0</td>\n",
       "      <td>NaN</td>\n",
       "      <td>NaN</td>\n",
       "    </tr>\n",
       "    <tr>\n",
       "      <th>006a000000zHwSbAAK</th>\n",
       "      <td>Fall 2013</td>\n",
       "      <td>2007-01-05 00:00:00</td>\n",
       "      <td>2013-03-15</td>\n",
       "      <td>2013-05-13</td>\n",
       "      <td>2013-06-06</td>\n",
       "      <td>2013-04-18</td>\n",
       "      <td>NaT</td>\n",
       "      <td>NaN</td>\n",
       "      <td>2.00</td>\n",
       "      <td>NaN</td>\n",
       "      <td>...</td>\n",
       "      <td>False</td>\n",
       "      <td>False</td>\n",
       "      <td>14.112139</td>\n",
       "      <td>17.312897</td>\n",
       "      <td>96.109994</td>\n",
       "      <td>351.040530</td>\n",
       "      <td>001a000001J4NikAAF</td>\n",
       "      <td>2.2</td>\n",
       "      <td>NaN</td>\n",
       "      <td>NaN</td>\n",
       "    </tr>\n",
       "    <tr>\n",
       "      <th>006a000000zHwOIAA0</th>\n",
       "      <td>Fall 2013</td>\n",
       "      <td>NaN</td>\n",
       "      <td>2013-03-14</td>\n",
       "      <td>2013-03-14</td>\n",
       "      <td>2013-04-24</td>\n",
       "      <td>2013-04-23</td>\n",
       "      <td>NaT</td>\n",
       "      <td>NaN</td>\n",
       "      <td>0.00</td>\n",
       "      <td>NaN</td>\n",
       "      <td>...</td>\n",
       "      <td>False</td>\n",
       "      <td>False</td>\n",
       "      <td>8.872769</td>\n",
       "      <td>10.958503</td>\n",
       "      <td>102.041263</td>\n",
       "      <td>345.138712</td>\n",
       "      <td>001a000001J4NeYAAV</td>\n",
       "      <td>0.0</td>\n",
       "      <td>NaN</td>\n",
       "      <td>NaN</td>\n",
       "    </tr>\n",
       "    <tr>\n",
       "      <th>006a000000zHwQgAAK</th>\n",
       "      <td>Fall 2013</td>\n",
       "      <td>2011-01-31 00:00:00</td>\n",
       "      <td>2013-03-11</td>\n",
       "      <td>2013-07-09</td>\n",
       "      <td>2013-07-09</td>\n",
       "      <td>2013-03-25</td>\n",
       "      <td>NaT</td>\n",
       "      <td>NaN</td>\n",
       "      <td>2.01</td>\n",
       "      <td>NaN</td>\n",
       "      <td>...</td>\n",
       "      <td>False</td>\n",
       "      <td>False</td>\n",
       "      <td>30.434642</td>\n",
       "      <td>36.394601</td>\n",
       "      <td>76.712759</td>\n",
       "      <td>370.439711</td>\n",
       "      <td>001a000001J4NgvAAF</td>\n",
       "      <td>NaN</td>\n",
       "      <td>NaN</td>\n",
       "      <td>NaN</td>\n",
       "    </tr>\n",
       "  </tbody>\n",
       "</table>\n",
       "<p>5 rows × 80 columns</p>\n",
       "</div>"
      ],
      "text/plain": [
       "                   application term        degree posted  \\\n",
       "opportunity id                                             \n",
       "006a000000ys35ZAAQ        Fall 2013                  NaN   \n",
       "006a000000ys34TAAQ        Fall 2013  2010-05-21 00:00:00   \n",
       "006a000000zHwSbAAK        Fall 2013  2007-01-05 00:00:00   \n",
       "006a000000zHwOIAA0        Fall 2013                  NaN   \n",
       "006a000000zHwQgAAK        Fall 2013  2011-01-31 00:00:00   \n",
       "\n",
       "                   application received date file status completed date  \\\n",
       "opportunity id                                                            \n",
       "006a000000ys35ZAAQ                2013-01-07                 2013-02-12   \n",
       "006a000000ys34TAAQ                2013-01-11                 2013-01-29   \n",
       "006a000000zHwSbAAK                2013-03-15                 2013-05-13   \n",
       "006a000000zHwOIAA0                2013-03-14                 2013-03-14   \n",
       "006a000000zHwQgAAK                2013-03-11                 2013-07-09   \n",
       "\n",
       "                   decision date application cleaned date  \\\n",
       "opportunity id                                              \n",
       "006a000000ys35ZAAQ    2013-04-03               2013-05-14   \n",
       "006a000000ys34TAAQ    2013-04-03               2013-05-14   \n",
       "006a000000zHwSbAAK    2013-06-06               2013-04-18   \n",
       "006a000000zHwOIAA0    2013-04-24               2013-04-23   \n",
       "006a000000zHwQgAAK    2013-07-09               2013-03-25   \n",
       "\n",
       "                   deposit received date department  undergraduate gpa  \\\n",
       "opportunity id                                                           \n",
       "006a000000ys35ZAAQ                   NaT        NaN               0.00   \n",
       "006a000000ys34TAAQ            2013-04-23        NaN               0.00   \n",
       "006a000000zHwSbAAK                   NaT        NaN               2.00   \n",
       "006a000000zHwOIAA0                   NaT        NaN               0.00   \n",
       "006a000000zHwQgAAK                   NaT        NaN               2.01   \n",
       "\n",
       "                    self reported gpa     ...      ready for director review  \\\n",
       "opportunity id                            ...                                  \n",
       "006a000000ys35ZAAQ                NaN     ...                          False   \n",
       "006a000000ys34TAAQ                NaN     ...                          False   \n",
       "006a000000zHwSbAAK                NaN     ...                          False   \n",
       "006a000000zHwOIAA0                NaN     ...                          False   \n",
       "006a000000zHwQgAAK                NaN     ...                          False   \n",
       "\n",
       "                    follow up required   90041_mi   91601_mi    92122_mi  \\\n",
       "opportunity id                                                             \n",
       "006a000000ys35ZAAQ               False  26.135814  27.001180   91.506402   \n",
       "006a000000ys34TAAQ               False   8.607256  18.507157  100.492801   \n",
       "006a000000zHwSbAAK               False  14.112139  17.312897   96.109994   \n",
       "006a000000zHwOIAA0               False   8.872769  10.958503  102.041263   \n",
       "006a000000zHwQgAAK               False  30.434642  36.394601   76.712759   \n",
       "\n",
       "                      94607_mi          account id  last 60/90 gpa  \\\n",
       "opportunity id                                                       \n",
       "006a000000ys35ZAAQ  356.534872  001a000001Hv8cmAAB             0.0   \n",
       "006a000000ys34TAAQ  348.467633  001a000001Hv8beAAB             0.0   \n",
       "006a000000zHwSbAAK  351.040530  001a000001J4NikAAF             2.2   \n",
       "006a000000zHwOIAA0  345.138712  001a000001J4NeYAAV             0.0   \n",
       "006a000000zHwQgAAK  370.439711  001a000001J4NgvAAF             NaN   \n",
       "\n",
       "                    graduate gpa  temperature  \n",
       "opportunity id                                 \n",
       "006a000000ys35ZAAQ           NaN          NaN  \n",
       "006a000000ys34TAAQ           NaN          NaN  \n",
       "006a000000zHwSbAAK           NaN          NaN  \n",
       "006a000000zHwOIAA0           NaN          NaN  \n",
       "006a000000zHwQgAAK           NaN          NaN  \n",
       "\n",
       "[5 rows x 80 columns]"
      ]
     },
     "execution_count": 2,
     "metadata": {},
     "output_type": "execute_result"
    }
   ],
   "source": [
    "df = pd.read_excel('Case #2 - USC Recruiting Strategy Case - DATA - sept 2018.xlsx', index_col = 0)\n",
    "df.head()"
   ]
  },
  {
   "cell_type": "code",
   "execution_count": 4,
   "metadata": {},
   "outputs": [
    {
     "data": {
      "text/plain": [
       "array(['2nd Tier Admit', 'Deny', 'Exit', 'Wait List', 'Exit to VAC',\n",
       "       '3rd Tier Admit', nan, '1st Tier Admit', 'Interview Required'],\n",
       "      dtype=object)"
      ]
     },
     "execution_count": 4,
     "metadata": {},
     "output_type": "execute_result"
    }
   ],
   "source": [
    "df.decision.unique()"
   ]
  },
  {
   "cell_type": "code",
   "execution_count": 5,
   "metadata": {},
   "outputs": [
    {
     "data": {
      "text/plain": [
       "array(['Withdrawn', 'Confirmed', nan, 'Deferred', 'VAC Switch',\n",
       "       'Undecided'], dtype=object)"
      ]
     },
     "execution_count": 5,
     "metadata": {},
     "output_type": "execute_result"
    }
   ],
   "source": [
    "df.response.unique()"
   ]
  },
  {
   "cell_type": "code",
   "execution_count": 3,
   "metadata": {},
   "outputs": [
    {
     "data": {
      "text/html": [
       "<div>\n",
       "<style scoped>\n",
       "    .dataframe tbody tr th:only-of-type {\n",
       "        vertical-align: middle;\n",
       "    }\n",
       "\n",
       "    .dataframe tbody tr th {\n",
       "        vertical-align: top;\n",
       "    }\n",
       "\n",
       "    .dataframe thead th {\n",
       "        text-align: right;\n",
       "    }\n",
       "</style>\n",
       "<table border=\"1\" class=\"dataframe\">\n",
       "  <thead>\n",
       "    <tr style=\"text-align: right;\">\n",
       "      <th></th>\n",
       "      <th>decision</th>\n",
       "      <th>response</th>\n",
       "      <th>acceptance_ratio</th>\n",
       "    </tr>\n",
       "  </thead>\n",
       "  <tbody>\n",
       "    <tr>\n",
       "      <th>1st Tier Admit</th>\n",
       "      <td>1606</td>\n",
       "      <td>716.0</td>\n",
       "      <td>0.445828</td>\n",
       "    </tr>\n",
       "    <tr>\n",
       "      <th>2nd Tier Admit</th>\n",
       "      <td>3881</td>\n",
       "      <td>2317.0</td>\n",
       "      <td>0.597011</td>\n",
       "    </tr>\n",
       "    <tr>\n",
       "      <th>3rd Tier Admit</th>\n",
       "      <td>233</td>\n",
       "      <td>182.0</td>\n",
       "      <td>0.781116</td>\n",
       "    </tr>\n",
       "    <tr>\n",
       "      <th>Deny</th>\n",
       "      <td>328</td>\n",
       "      <td>NaN</td>\n",
       "      <td>NaN</td>\n",
       "    </tr>\n",
       "    <tr>\n",
       "      <th>Exit</th>\n",
       "      <td>139</td>\n",
       "      <td>NaN</td>\n",
       "      <td>NaN</td>\n",
       "    </tr>\n",
       "    <tr>\n",
       "      <th>Exit to VAC</th>\n",
       "      <td>25</td>\n",
       "      <td>NaN</td>\n",
       "      <td>NaN</td>\n",
       "    </tr>\n",
       "    <tr>\n",
       "      <th>Interview Required</th>\n",
       "      <td>5</td>\n",
       "      <td>NaN</td>\n",
       "      <td>NaN</td>\n",
       "    </tr>\n",
       "    <tr>\n",
       "      <th>Wait List</th>\n",
       "      <td>12</td>\n",
       "      <td>NaN</td>\n",
       "      <td>NaN</td>\n",
       "    </tr>\n",
       "  </tbody>\n",
       "</table>\n",
       "</div>"
      ],
      "text/plain": [
       "                    decision  response  acceptance_ratio\n",
       "1st Tier Admit          1606     716.0          0.445828\n",
       "2nd Tier Admit          3881    2317.0          0.597011\n",
       "3rd Tier Admit           233     182.0          0.781116\n",
       "Deny                     328       NaN               NaN\n",
       "Exit                     139       NaN               NaN\n",
       "Exit to VAC               25       NaN               NaN\n",
       "Interview Required         5       NaN               NaN\n",
       "Wait List                 12       NaN               NaN"
      ]
     },
     "execution_count": 3,
     "metadata": {},
     "output_type": "execute_result"
    }
   ],
   "source": [
    "df_byTier = pd.concat([df.groupby(['decision'])[['decision']].count(),\n",
    "                       df.loc[df.response == 'Confirmed',:].groupby(['decision'])[['decision']].count()], axis=1)\n",
    "df_byTier.columns = ['decision', 'response']\n",
    "df_byTier['acceptance_ratio'] = df_byTier.response / df_byTier.decision\n",
    "df_byTier"
   ]
  },
  {
   "cell_type": "code",
   "execution_count": 7,
   "metadata": {},
   "outputs": [
    {
     "name": "stdout",
     "output_type": "stream",
     "text": [
      "<class 'pandas.core.frame.DataFrame'>\n",
      "Index: 1606 entries, 006a000000ys36NAAQ to 006a000001LOiJMAA1\n",
      "Data columns (total 13 columns):\n",
      "undergraduate gpa                    1604 non-null float64\n",
      "first review exp                     1588 non-null float64\n",
      "first review sop                     1588 non-null float64\n",
      "first review gpa                     1588 non-null float64\n",
      "first review lor                     1588 non-null float64\n",
      "concentration/department interest    1497 non-null object\n",
      "ethnicity                            1605 non-null object\n",
      "gender                               1606 non-null object\n",
      "first generation                     1568 non-null object\n",
      "response                             1599 non-null object\n",
      "response date                        1585 non-null datetime64[ns]\n",
      "date acceptance letter sent          1521 non-null datetime64[ns]\n",
      "age                                  1605 non-null float64\n",
      "dtypes: datetime64[ns](2), float64(6), object(5)\n",
      "memory usage: 175.7+ KB\n"
     ]
    }
   ],
   "source": [
    "df_f = df.loc[df.decision == '1st Tier Admit',['undergraduate gpa','first review exp','first review sop','first review gpa','first review lor',\n",
    "                'concentration/department interest','ethnicity','gender', 'first generation', 'response',\n",
    "                 'response date','date acceptance letter sent','age']]\n",
    "df_f.info()"
   ]
  },
  {
   "cell_type": "code",
   "execution_count": 13,
   "metadata": {},
   "outputs": [
    {
     "data": {
      "text/html": [
       "<div>\n",
       "<style scoped>\n",
       "    .dataframe tbody tr th:only-of-type {\n",
       "        vertical-align: middle;\n",
       "    }\n",
       "\n",
       "    .dataframe tbody tr th {\n",
       "        vertical-align: top;\n",
       "    }\n",
       "\n",
       "    .dataframe thead th {\n",
       "        text-align: right;\n",
       "    }\n",
       "</style>\n",
       "<table border=\"1\" class=\"dataframe\">\n",
       "  <thead>\n",
       "    <tr style=\"text-align: right;\">\n",
       "      <th></th>\n",
       "      <th>first generation</th>\n",
       "    </tr>\n",
       "    <tr>\n",
       "      <th>first generation</th>\n",
       "      <th></th>\n",
       "    </tr>\n",
       "  </thead>\n",
       "  <tbody>\n",
       "    <tr>\n",
       "      <th>No</th>\n",
       "      <td>925</td>\n",
       "    </tr>\n",
       "    <tr>\n",
       "      <th>Yes</th>\n",
       "      <td>643</td>\n",
       "    </tr>\n",
       "  </tbody>\n",
       "</table>\n",
       "</div>"
      ],
      "text/plain": [
       "                  first generation\n",
       "first generation                  \n",
       "No                             925\n",
       "Yes                            643"
      ]
     },
     "execution_count": 13,
     "metadata": {},
     "output_type": "execute_result"
    }
   ],
   "source": [
    "df_f.groupby(['first generation'])[['first generation']].count()"
   ]
  },
  {
   "cell_type": "code",
   "execution_count": 16,
   "metadata": {},
   "outputs": [
    {
     "data": {
      "text/plain": [
       "array(['Mental Health', 'Family and Children', 'COPA', 'Health',\n",
       "       'Social Work and Business', nan,\n",
       "       'CYF Children, Youth, and Families',\n",
       "       'SCI Social Change and Innovation',\n",
       "       'COBI Community, Organization and Business Innovation',\n",
       "       'Family & Children', 'None of the above:  I am not eligible fo',\n",
       "       'Workplace', 'CYF Children ,Youth and Families',\n",
       "       'AMHW Adult Mental Health and Wellness',\n",
       "       'COBI Community, Organization and Busines',\n",
       "       'Social Work Graduate Fair-USC, Los Angel',\n",
       "       'COBI Community, Organization and Business',\n",
       "       'AHA Adults and Healthy Aging', 'N'], dtype=object)"
      ]
     },
     "execution_count": 16,
     "metadata": {},
     "output_type": "execute_result"
    }
   ],
   "source": [
    "df_f['concentration/department interest'].unique()"
   ]
  },
  {
   "cell_type": "code",
   "execution_count": 6,
   "metadata": {},
   "outputs": [
    {
     "data": {
      "text/plain": [
       "<matplotlib.axes._subplots.AxesSubplot at 0x10d79e908>"
      ]
     },
     "execution_count": 6,
     "metadata": {},
     "output_type": "execute_result"
    },
    {
     "data": {
      "image/png": "[encoded data removed]",
      "text/plain": [
       "<Figure size 432x288 with 1 Axes>"
      ]
     },
     "metadata": {},
     "output_type": "display_data"
    }
   ],
   "source": [
    "df_f['undergraduate gpa'].plot(kind='hist')"
   ]
  },
  {
   "cell_type": "code",
   "execution_count": 21,
   "metadata": {},
   "outputs": [
    {
     "data": {
      "text/plain": [
       "<matplotlib.axes._subplots.AxesSubplot at 0x11cdf6b38>"
      ]
     },
     "execution_count": 21,
     "metadata": {},
     "output_type": "execute_result"
    },
    {
     "data": {
      "image/png": "[encoded data removed]",
      "text/plain": [
       "<Figure size 432x288 with 1 Axes>"
      ]
     },
     "metadata": {},
     "output_type": "display_data"
    }
   ],
   "source": [
    "#df_f['lead_time'] = \n",
    "(df_f['response date'] - df_f['date acceptance letter sent']).apply(lambda x: x.days if x is not pd.NaT else 999).hist()"
   ]
  },
  {
   "cell_type": "code",
   "execution_count": 90,
   "metadata": {},
   "outputs": [
    {
     "data": {
      "text/html": [
       "<div>\n",
       "<style scoped>\n",
       "    .dataframe tbody tr th:only-of-type {\n",
       "        vertical-align: middle;\n",
       "    }\n",
       "\n",
       "    .dataframe tbody tr th {\n",
       "        vertical-align: top;\n",
       "    }\n",
       "\n",
       "    .dataframe thead th {\n",
       "        text-align: right;\n",
       "    }\n",
       "</style>\n",
       "<table border=\"1\" class=\"dataframe\">\n",
       "  <thead>\n",
       "    <tr style=\"text-align: right;\">\n",
       "      <th></th>\n",
       "      <th>undergraduate gpa</th>\n",
       "      <th>first review exp</th>\n",
       "      <th>first review sop</th>\n",
       "      <th>first review gpa</th>\n",
       "      <th>first review lor</th>\n",
       "      <th>concentration/department interest</th>\n",
       "      <th>ethnicity</th>\n",
       "      <th>gender</th>\n",
       "      <th>first generation</th>\n",
       "      <th>response</th>\n",
       "      <th>response date</th>\n",
       "      <th>date acceptance letter sent</th>\n",
       "      <th>age</th>\n",
       "    </tr>\n",
       "    <tr>\n",
       "      <th>opportunity id</th>\n",
       "      <th></th>\n",
       "      <th></th>\n",
       "      <th></th>\n",
       "      <th></th>\n",
       "      <th></th>\n",
       "      <th></th>\n",
       "      <th></th>\n",
       "      <th></th>\n",
       "      <th></th>\n",
       "      <th></th>\n",
       "      <th></th>\n",
       "      <th></th>\n",
       "      <th></th>\n",
       "    </tr>\n",
       "  </thead>\n",
       "  <tbody>\n",
       "    <tr>\n",
       "      <th>006a000000ys36NAAQ</th>\n",
       "      <td>2.41</td>\n",
       "      <td>5.0</td>\n",
       "      <td>5.0</td>\n",
       "      <td>5.0</td>\n",
       "      <td>4.0</td>\n",
       "      <td>Mental Health</td>\n",
       "      <td>Unknown</td>\n",
       "      <td>Female</td>\n",
       "      <td>Yes</td>\n",
       "      <td>Confirmed</td>\n",
       "      <td>2013-04-08</td>\n",
       "      <td>2013-03-22</td>\n",
       "      <td>33.0</td>\n",
       "    </tr>\n",
       "    <tr>\n",
       "      <th>006a000000ys326AAA</th>\n",
       "      <td>2.78</td>\n",
       "      <td>5.0</td>\n",
       "      <td>5.0</td>\n",
       "      <td>3.0</td>\n",
       "      <td>5.0</td>\n",
       "      <td>Mental Health</td>\n",
       "      <td>Caucasian</td>\n",
       "      <td>Female</td>\n",
       "      <td>Yes</td>\n",
       "      <td>Withdrawn</td>\n",
       "      <td>2013-07-12</td>\n",
       "      <td>2013-03-29</td>\n",
       "      <td>56.0</td>\n",
       "    </tr>\n",
       "    <tr>\n",
       "      <th>006a000000ys2xEAAQ</th>\n",
       "      <td>2.81</td>\n",
       "      <td>5.0</td>\n",
       "      <td>5.0</td>\n",
       "      <td>3.0</td>\n",
       "      <td>5.0</td>\n",
       "      <td>Family and Children</td>\n",
       "      <td>Asian/Pacific Islander</td>\n",
       "      <td>Female</td>\n",
       "      <td>No</td>\n",
       "      <td>Withdrawn</td>\n",
       "      <td>2013-04-17</td>\n",
       "      <td>2013-04-05</td>\n",
       "      <td>29.0</td>\n",
       "    </tr>\n",
       "    <tr>\n",
       "      <th>006a000000ys34CAAQ</th>\n",
       "      <td>2.86</td>\n",
       "      <td>5.0</td>\n",
       "      <td>5.0</td>\n",
       "      <td>3.0</td>\n",
       "      <td>5.0</td>\n",
       "      <td>Family and Children</td>\n",
       "      <td>Native American</td>\n",
       "      <td>Female</td>\n",
       "      <td>No</td>\n",
       "      <td>Confirmed</td>\n",
       "      <td>2013-04-06</td>\n",
       "      <td>2013-04-05</td>\n",
       "      <td>34.0</td>\n",
       "    </tr>\n",
       "    <tr>\n",
       "      <th>006a000000zHwSiAAK</th>\n",
       "      <td>2.90</td>\n",
       "      <td>NaN</td>\n",
       "      <td>NaN</td>\n",
       "      <td>NaN</td>\n",
       "      <td>NaN</td>\n",
       "      <td>Family and Children</td>\n",
       "      <td>African American</td>\n",
       "      <td>Female</td>\n",
       "      <td>Yes</td>\n",
       "      <td>Confirmed</td>\n",
       "      <td>2013-04-08</td>\n",
       "      <td>2013-03-15</td>\n",
       "      <td>34.0</td>\n",
       "    </tr>\n",
       "  </tbody>\n",
       "</table>\n",
       "</div>"
      ],
      "text/plain": [
       "                    undergraduate gpa  first review exp  first review sop  \\\n",
       "opportunity id                                                              \n",
       "006a000000ys36NAAQ               2.41               5.0               5.0   \n",
       "006a000000ys326AAA               2.78               5.0               5.0   \n",
       "006a000000ys2xEAAQ               2.81               5.0               5.0   \n",
       "006a000000ys34CAAQ               2.86               5.0               5.0   \n",
       "006a000000zHwSiAAK               2.90               NaN               NaN   \n",
       "\n",
       "                    first review gpa  first review lor  \\\n",
       "opportunity id                                           \n",
       "006a000000ys36NAAQ               5.0               4.0   \n",
       "006a000000ys326AAA               3.0               5.0   \n",
       "006a000000ys2xEAAQ               3.0               5.0   \n",
       "006a000000ys34CAAQ               3.0               5.0   \n",
       "006a000000zHwSiAAK               NaN               NaN   \n",
       "\n",
       "                   concentration/department interest               ethnicity  \\\n",
       "opportunity id                                                                 \n",
       "006a000000ys36NAAQ                     Mental Health                 Unknown   \n",
       "006a000000ys326AAA                     Mental Health               Caucasian   \n",
       "006a000000ys2xEAAQ               Family and Children  Asian/Pacific Islander   \n",
       "006a000000ys34CAAQ               Family and Children         Native American   \n",
       "006a000000zHwSiAAK               Family and Children        African American   \n",
       "\n",
       "                    gender first generation   response response date  \\\n",
       "opportunity id                                                         \n",
       "006a000000ys36NAAQ  Female              Yes  Confirmed    2013-04-08   \n",
       "006a000000ys326AAA  Female              Yes  Withdrawn    2013-07-12   \n",
       "006a000000ys2xEAAQ  Female               No  Withdrawn    2013-04-17   \n",
       "006a000000ys34CAAQ  Female               No  Confirmed    2013-04-06   \n",
       "006a000000zHwSiAAK  Female              Yes  Confirmed    2013-04-08   \n",
       "\n",
       "                   date acceptance letter sent   age  \n",
       "opportunity id                                        \n",
       "006a000000ys36NAAQ                  2013-03-22  33.0  \n",
       "006a000000ys326AAA                  2013-03-29  56.0  \n",
       "006a000000ys2xEAAQ                  2013-04-05  29.0  \n",
       "006a000000ys34CAAQ                  2013-04-05  34.0  \n",
       "006a000000zHwSiAAK                  2013-03-15  34.0  "
      ]
     },
     "execution_count": 90,
     "metadata": {},
     "output_type": "execute_result"
    }
   ],
   "source": [
    "df_f.head()"
   ]
  },
  {
   "cell_type": "code",
   "execution_count": 8,
   "metadata": {},
   "outputs": [
    {
     "data": {
      "text/plain": [
       "array(['Confirmed', 'Withdrawn', 'Deferred', 'VAC Switch'], dtype=object)"
      ]
     },
     "execution_count": 8,
     "metadata": {},
     "output_type": "execute_result"
    }
   ],
   "source": [
    "df_f = df_f.dropna(subset = ['response date', 'date acceptance letter sent'])\n",
    "df_f.response.unique()"
   ]
  },
  {
   "cell_type": "code",
   "execution_count": 9,
   "metadata": {},
   "outputs": [],
   "source": [
    "def date_diff(row):\n",
    "    rd = row['response date']\n",
    "    ad = row['date acceptance letter sent']\n",
    "    return (rd - ad).days\n",
    "df_f['date_diff'] = df_f.apply(date_diff, axis=1)\n"
   ]
  },
  {
   "cell_type": "code",
   "execution_count": 84,
   "metadata": {},
   "outputs": [
    {
     "data": {
      "text/plain": [
       "array([[<matplotlib.axes._subplots.AxesSubplot object at 0x11e24e860>,\n",
       "        <matplotlib.axes._subplots.AxesSubplot object at 0x112c8e588>],\n",
       "       [<matplotlib.axes._subplots.AxesSubplot object at 0x112ae5748>,\n",
       "        <matplotlib.axes._subplots.AxesSubplot object at 0x11e283588>]],\n",
       "      dtype=object)"
      ]
     },
     "execution_count": 84,
     "metadata": {},
     "output_type": "execute_result"
    },
    {
     "data": {
      "image/png": "[encoded data removed]",
      "text/plain": [
       "<Figure size 1008x720 with 4 Axes>"
      ]
     },
     "metadata": {},
     "output_type": "display_data"
    }
   ],
   "source": [
    "df_f.reset_index().loc[:,['response', 'date_diff']].pivot(columns='response', values = 'date_diff').hist(figsize=(14,10))"
   ]
  },
  {
   "cell_type": "code",
   "execution_count": 10,
   "metadata": {},
   "outputs": [
    {
     "data": {
      "text/plain": [
       "['AHA Adults and Healthy Aging',\n",
       " 'AMHW Adult Mental Health and Wellness',\n",
       " 'COBI Community, Organization and Busines',\n",
       " 'COBI Community, Organization and Business',\n",
       " 'COBI Community, Organization and Business Innovation',\n",
       " 'COPA',\n",
       " 'CYF Children ,Youth and Families',\n",
       " 'CYF Children, Youth, and Families',\n",
       " 'Family & Children',\n",
       " 'Family and Children',\n",
       " 'Health',\n",
       " 'Mental Health',\n",
       " 'N',\n",
       " 'None of the above:  I am not eligible fo',\n",
       " 'SCI Social Change and Innovation',\n",
       " 'Social Work Graduate Fair-USC, Los Angel',\n",
       " 'Social Work and Business',\n",
       " 'Workplace']"
      ]
     },
     "execution_count": 10,
     "metadata": {},
     "output_type": "execute_result"
    }
   ],
   "source": [
    "sorted(df_f['concentration/department interest'].unique()[pd.notna(df_f['concentration/department interest'].unique())])"
   ]
  },
  {
   "cell_type": "code",
   "execution_count": 11,
   "metadata": {},
   "outputs": [],
   "source": [
    "def clean_department(x):\n",
    "    if x is np.nan:\n",
    "        return 'Others'\n",
    "    elif 'Adult' in x or 'Health' in x:\n",
    "        return 'AMHW'\n",
    "    elif 'Children' in x:\n",
    "        return 'CYF'\n",
    "    elif 'Social' in x or 'Organization' in x or 'COPA' in x:\n",
    "        return 'SCI'\n",
    "    else:\n",
    "        return 'Others'\n",
    "    \n",
    "df_f['concentration/department interest'] = df_f['concentration/department interest'].apply(clean_department)"
   ]
  },
  {
   "cell_type": "code",
   "execution_count": 166,
   "metadata": {},
   "outputs": [
    {
     "data": {
      "text/plain": [
       "['AMHW', 'CYF', 'Others', 'SCI']"
      ]
     },
     "execution_count": 166,
     "metadata": {},
     "output_type": "execute_result"
    }
   ],
   "source": [
    "sorted(df_f['concentration/department interest'].unique()[~pd.isna(df_f['concentration/department interest'].unique())])"
   ]
  },
  {
   "cell_type": "code",
   "execution_count": 12,
   "metadata": {
    "scrolled": true
   },
   "outputs": [],
   "source": [
    "values = {'undergraduate gpa': df_f['undergraduate gpa'].mean(),\n",
    "          'first review exp': df_f['first review exp'].mean(),\n",
    "          'first review sop': df_f['first review sop'].mean(),\n",
    "          'first review gpa': df_f['first review gpa'].mean(),\n",
    "          'first review lor': df_f['first review lor'].mean()\n",
    "         }\n",
    "df_f = df_f.fillna(value=values)"
   ]
  },
  {
   "cell_type": "code",
   "execution_count": 13,
   "metadata": {},
   "outputs": [
    {
     "name": "stdout",
     "output_type": "stream",
     "text": [
      "<class 'pandas.core.frame.DataFrame'>\n",
      "Index: 1516 entries, 006a000000ys36NAAQ to 006a000001LOiJMAA1\n",
      "Data columns (total 14 columns):\n",
      "undergraduate gpa                    1516 non-null float64\n",
      "first review exp                     1516 non-null float64\n",
      "first review sop                     1516 non-null float64\n",
      "first review gpa                     1516 non-null float64\n",
      "first review lor                     1516 non-null float64\n",
      "concentration/department interest    1516 non-null object\n",
      "ethnicity                            1516 non-null object\n",
      "gender                               1516 non-null object\n",
      "first generation                     1478 non-null object\n",
      "response                             1516 non-null object\n",
      "response date                        1516 non-null datetime64[ns]\n",
      "date acceptance letter sent          1516 non-null datetime64[ns]\n",
      "age                                  1516 non-null float64\n",
      "date_diff                            1516 non-null int64\n",
      "dtypes: datetime64[ns](2), float64(6), int64(1), object(5)\n",
      "memory usage: 177.7+ KB\n"
     ]
    }
   ],
   "source": [
    "df_f.info()"
   ]
  },
  {
   "cell_type": "code",
   "execution_count": 169,
   "metadata": {},
   "outputs": [
    {
     "data": {
      "text/plain": [
       "array(['Yes', 'No', nan], dtype=object)"
      ]
     },
     "execution_count": 169,
     "metadata": {},
     "output_type": "execute_result"
    }
   ],
   "source": [
    "df_f['first generation'].unique()"
   ]
  },
  {
   "cell_type": "code",
   "execution_count": 14,
   "metadata": {},
   "outputs": [],
   "source": [
    "prob = df_f.loc[:,['first generation', 'response']].groupby(['first generation'])['response'].count()[1]/pd.notna(df_f['first generation']).sum()\n",
    "\n",
    "def rand_firstgen(x):\n",
    "    if x is np.nan:\n",
    "        return np.random.binomial(1,prob)\n",
    "    elif x == 'Yes':\n",
    "        return 1\n",
    "    else:\n",
    "        return 0\n",
    "    \n",
    "    \n",
    "df_f['first generation'] = df_f['first generation'].apply(rand_firstgen)\n"
   ]
  },
  {
   "cell_type": "code",
   "execution_count": 16,
   "metadata": {},
   "outputs": [
    {
     "name": "stdout",
     "output_type": "stream",
     "text": [
      "<class 'pandas.core.frame.DataFrame'>\n",
      "Index: 1516 entries, 006a000000ys36NAAQ to 006a000001LOiJMAA1\n",
      "Data columns (total 14 columns):\n",
      "undergraduate gpa                    1516 non-null float64\n",
      "first review exp                     1516 non-null float64\n",
      "first review sop                     1516 non-null float64\n",
      "first review gpa                     1516 non-null float64\n",
      "first review lor                     1516 non-null float64\n",
      "concentration/department interest    1516 non-null object\n",
      "ethnicity                            1516 non-null object\n",
      "gender                               1516 non-null object\n",
      "first generation                     1516 non-null int64\n",
      "response                             1516 non-null object\n",
      "response date                        1516 non-null datetime64[ns]\n",
      "date acceptance letter sent          1516 non-null datetime64[ns]\n",
      "age                                  1516 non-null float64\n",
      "date_diff                            1516 non-null int64\n",
      "dtypes: datetime64[ns](2), float64(6), int64(2), object(4)\n",
      "memory usage: 177.7+ KB\n"
     ]
    }
   ],
   "source": [
    "df_f.info()"
   ]
  },
  {
   "cell_type": "code",
   "execution_count": 172,
   "metadata": {},
   "outputs": [
    {
     "data": {
      "text/plain": [
       "array(['Female', 'Male'], dtype=object)"
      ]
     },
     "execution_count": 172,
     "metadata": {},
     "output_type": "execute_result"
    }
   ],
   "source": [
    "df_f.gender.unique()"
   ]
  },
  {
   "cell_type": "code",
   "execution_count": 19,
   "metadata": {},
   "outputs": [],
   "source": [
    "def gender_to_binary(x):\n",
    "    if 'female' in x.lower():\n",
    "        return 0\n",
    "    else:\n",
    "        return 1\n",
    "    \n",
    "def response_to_binary(x):\n",
    "    if 'withdraw' in x.lower():\n",
    "        return 0\n",
    "    else:\n",
    "        return 1\n",
    "\n",
    "df_f['gender'] = df_f['gender'].apply(gender_to_binary)\n",
    "df_f['y'] = df_f['response'].apply(response_to_binary)\n",
    "df_f['date_diff'] = df_f['date_diff'].astype(float)"
   ]
  },
  {
   "cell_type": "code",
   "execution_count": 20,
   "metadata": {},
   "outputs": [
    {
     "name": "stdout",
     "output_type": "stream",
     "text": [
      "<class 'pandas.core.frame.DataFrame'>\n",
      "Index: 1516 entries, 006a000000ys36NAAQ to 006a000001LOiJMAA1\n",
      "Data columns (total 25 columns):\n",
      "undergraduate gpa                           1516 non-null float64\n",
      "first review exp                            1516 non-null float64\n",
      "first review sop                            1516 non-null float64\n",
      "first review gpa                            1516 non-null float64\n",
      "first review lor                            1516 non-null float64\n",
      "gender                                      1516 non-null int64\n",
      "first generation                            1516 non-null int64\n",
      "response                                    1516 non-null object\n",
      "response date                               1516 non-null datetime64[ns]\n",
      "date acceptance letter sent                 1516 non-null datetime64[ns]\n",
      "age                                         1516 non-null float64\n",
      "date_diff                                   1516 non-null float64\n",
      "y                                           1516 non-null int64\n",
      "concentration/department interest_AMHW      1516 non-null uint8\n",
      "concentration/department interest_CYF       1516 non-null uint8\n",
      "concentration/department interest_Others    1516 non-null uint8\n",
      "concentration/department interest_SCI       1516 non-null uint8\n",
      "ethnicity_African American                  1516 non-null uint8\n",
      "ethnicity_Arab/Middle Eastern               1516 non-null uint8\n",
      "ethnicity_Asian/Pacific Islander            1516 non-null uint8\n",
      "ethnicity_Caucasian                         1516 non-null uint8\n",
      "ethnicity_Latino/a                          1516 non-null uint8\n",
      "ethnicity_Multi-Ethnic                      1516 non-null uint8\n",
      "ethnicity_Native American                   1516 non-null uint8\n",
      "ethnicity_Unknown                           1516 non-null uint8\n",
      "dtypes: datetime64[ns](2), float64(7), int64(3), object(1), uint8(12)\n",
      "memory usage: 183.6+ KB\n"
     ]
    }
   ],
   "source": [
    "pd.get_dummies(df_f, columns=['concentration/department interest','ethnicity']).info()"
   ]
  },
  {
   "cell_type": "code",
   "execution_count": null,
   "metadata": {},
   "outputs": [],
   "source": [
    "pd.get_dummies(df_f, columns=['concentration/department interest','ethnicity']).drop(['response',\n",
    "                                                                                          'response date',\n",
    "                                                                                          'date acceptance letter sent',\n",
    "                                                                                          'y'\n",
    "                                                                                         ],axis=1)"
   ]
  },
  {
   "cell_type": "code",
   "execution_count": 22,
   "metadata": {},
   "outputs": [],
   "source": [
    "X = pd.get_dummies(df_f, columns=['concentration/department interest','ethnicity']).drop(['response',\n",
    "                                                                                          'response date',\n",
    "                                                                                          'date acceptance letter sent',\n",
    "                                                                                          'y'\n",
    "                                                                                         ],axis=1).values\n",
    "y = df_f.y.values"
   ]
  },
  {
   "cell_type": "code",
   "execution_count": 23,
   "metadata": {},
   "outputs": [
    {
     "name": "stdout",
     "output_type": "stream",
     "text": [
      "Training\n",
      " [[297 154]\n",
      " [119 339]]\n",
      "             precision    recall  f1-score   support\n",
      "\n",
      "          0       0.71      0.66      0.69       451\n",
      "          1       0.69      0.74      0.71       458\n",
      "\n",
      "avg / total       0.70      0.70      0.70       909\n",
      "\n",
      "Testing\n",
      " [[176 109]\n",
      " [ 73 249]]\n",
      "             precision    recall  f1-score   support\n",
      "\n",
      "          0       0.71      0.62      0.66       285\n",
      "          1       0.70      0.77      0.73       322\n",
      "\n",
      "avg / total       0.70      0.70      0.70       607\n",
      "\n"
     ]
    }
   ],
   "source": [
    "from sklearn.model_selection import train_test_split\n",
    "from sklearn.metrics import confusion_matrix\n",
    "from sklearn.metrics import classification_report\n",
    "from sklearn.linear_model import LogisticRegression\n",
    "from sklearn.preprocessing import StandardScaler\n",
    "from sklearn.pipeline import Pipeline\n",
    "\n",
    "X_train, X_test, y_train, y_test = train_test_split(X, y, test_size=0.4, random_state=42)\n",
    "\n",
    "steps = [('scaler', StandardScaler()),\n",
    "         ('logreg', LogisticRegression())]\n",
    "\n",
    "pipeline = Pipeline(steps)\n",
    "    \n",
    "pipeline.fit(X_train, y_train)\n",
    "y_pred = pipeline.predict(X_train)\n",
    "print(\"Training\\n\", confusion_matrix(y_train, y_pred))\n",
    "print(classification_report(y_train, y_pred))\n",
    "\n",
    "y_pred = pipeline.predict(X_test)\n",
    "\n",
    "print(\"Testing\\n\", confusion_matrix(y_test, y_pred))\n",
    "print(classification_report(y_test, y_pred))"
   ]
  },
  {
   "cell_type": "code",
   "execution_count": 24,
   "metadata": {},
   "outputs": [
    {
     "name": "stdout",
     "output_type": "stream",
     "text": [
      "Training\n",
      " [[447   4]\n",
      " [ 11 447]]\n",
      "             precision    recall  f1-score   support\n",
      "\n",
      "          0       0.98      0.99      0.98       451\n",
      "          1       0.99      0.98      0.98       458\n",
      "\n",
      "avg / total       0.98      0.98      0.98       909\n",
      "\n",
      "Testing\n",
      " [[222  63]\n",
      " [ 89 233]]\n",
      "             precision    recall  f1-score   support\n",
      "\n",
      "          0       0.71      0.78      0.74       285\n",
      "          1       0.79      0.72      0.75       322\n",
      "\n",
      "avg / total       0.75      0.75      0.75       607\n",
      "\n"
     ]
    }
   ],
   "source": [
    "from sklearn.ensemble import RandomForestClassifier\n",
    "\n",
    "steps = [('scaler', StandardScaler()),\n",
    "         ('forest', RandomForestClassifier())]\n",
    "\n",
    "pipeline = Pipeline(steps)\n",
    "    \n",
    "pipeline.fit(X_train, y_train)\n",
    "y_pred = pipeline.predict(X_train)\n",
    "print(\"Training\\n\", confusion_matrix(y_train, y_pred))\n",
    "print(classification_report(y_train, y_pred))\n",
    "\n",
    "y_pred = pipeline.predict(X_test)\n",
    "\n",
    "print(\"Testing\\n\", confusion_matrix(y_test, y_pred))\n",
    "print(classification_report(y_test, y_pred))"
   ]
  },
  {
   "cell_type": "code",
   "execution_count": 189,
   "metadata": {},
   "outputs": [
    {
     "name": "stdout",
     "output_type": "stream",
     "text": [
      "y\n",
      "0    736\n",
      "1    780\n",
      "Name: y, dtype: int64\n"
     ]
    },
    {
     "data": {
      "text/plain": [
       "0.5145118733509235"
      ]
     },
     "execution_count": 189,
     "metadata": {},
     "output_type": "execute_result"
    }
   ],
   "source": [
    "print(df_f.groupby(['y'])['y'].count())\n",
    "780/(1516)"
   ]
  },
  {
   "cell_type": "code",
   "execution_count": 202,
   "metadata": {},
   "outputs": [
    {
     "data": {
      "text/plain": [
       "array(['Unknown', 'Caucasian', 'Asian/Pacific Islander',\n",
       "       'Native American', 'African American', 'Latino/a', 'Multi-Ethnic',\n",
       "       'Arab/Middle Eastern'], dtype=object)"
      ]
     },
     "execution_count": 202,
     "metadata": {},
     "output_type": "execute_result"
    }
   ],
   "source": [
    "df_f.ethnicity.unique()"
   ]
  },
  {
   "cell_type": "code",
   "execution_count": 204,
   "metadata": {},
   "outputs": [
    {
     "name": "stdout",
     "output_type": "stream",
     "text": [
      "<class 'pandas.core.frame.DataFrame'>\n",
      "Index: 1516 entries, 006a000000ys36NAAQ to 006a000001LOiJMAA1\n",
      "Data columns (total 11 columns):\n",
      "undergraduate gpa                    1516 non-null float64\n",
      "first review exp                     1516 non-null float64\n",
      "first review sop                     1516 non-null float64\n",
      "first review gpa                     1516 non-null float64\n",
      "first review lor                     1516 non-null float64\n",
      "concentration/department interest    1516 non-null category\n",
      "ethnicity                            1516 non-null category\n",
      "gender                               1516 non-null category\n",
      "first generation                     1516 non-null category\n",
      "age                                  1516 non-null float64\n",
      "date_diff                            1516 non-null float64\n",
      "dtypes: category(4), float64(7)\n",
      "memory usage: 141.4+ KB\n",
      "None\n"
     ]
    },
    {
     "data": {
      "text/html": [
       "<div>\n",
       "<style scoped>\n",
       "    .dataframe tbody tr th:only-of-type {\n",
       "        vertical-align: middle;\n",
       "    }\n",
       "\n",
       "    .dataframe tbody tr th {\n",
       "        vertical-align: top;\n",
       "    }\n",
       "\n",
       "    .dataframe thead th {\n",
       "        text-align: right;\n",
       "    }\n",
       "</style>\n",
       "<table border=\"1\" class=\"dataframe\">\n",
       "  <thead>\n",
       "    <tr style=\"text-align: right;\">\n",
       "      <th></th>\n",
       "      <th>undergraduate gpa</th>\n",
       "      <th>first review exp</th>\n",
       "      <th>first review sop</th>\n",
       "      <th>first review gpa</th>\n",
       "      <th>first review lor</th>\n",
       "      <th>concentration/department interest</th>\n",
       "      <th>ethnicity</th>\n",
       "      <th>gender</th>\n",
       "      <th>first generation</th>\n",
       "      <th>age</th>\n",
       "      <th>date_diff</th>\n",
       "    </tr>\n",
       "    <tr>\n",
       "      <th>opportunity id</th>\n",
       "      <th></th>\n",
       "      <th></th>\n",
       "      <th></th>\n",
       "      <th></th>\n",
       "      <th></th>\n",
       "      <th></th>\n",
       "      <th></th>\n",
       "      <th></th>\n",
       "      <th></th>\n",
       "      <th></th>\n",
       "      <th></th>\n",
       "    </tr>\n",
       "  </thead>\n",
       "  <tbody>\n",
       "    <tr>\n",
       "      <th>006a000000ys36NAAQ</th>\n",
       "      <td>2.41</td>\n",
       "      <td>5.000000</td>\n",
       "      <td>5.000000</td>\n",
       "      <td>5.000000</td>\n",
       "      <td>4.000000</td>\n",
       "      <td>AMHW</td>\n",
       "      <td>Unknown</td>\n",
       "      <td>0</td>\n",
       "      <td>1</td>\n",
       "      <td>33.0</td>\n",
       "      <td>17.0</td>\n",
       "    </tr>\n",
       "    <tr>\n",
       "      <th>006a000000ys326AAA</th>\n",
       "      <td>2.78</td>\n",
       "      <td>5.000000</td>\n",
       "      <td>5.000000</td>\n",
       "      <td>3.000000</td>\n",
       "      <td>5.000000</td>\n",
       "      <td>AMHW</td>\n",
       "      <td>Caucasian</td>\n",
       "      <td>0</td>\n",
       "      <td>1</td>\n",
       "      <td>56.0</td>\n",
       "      <td>105.0</td>\n",
       "    </tr>\n",
       "    <tr>\n",
       "      <th>006a000000ys2xEAAQ</th>\n",
       "      <td>2.81</td>\n",
       "      <td>5.000000</td>\n",
       "      <td>5.000000</td>\n",
       "      <td>3.000000</td>\n",
       "      <td>5.000000</td>\n",
       "      <td>CYF</td>\n",
       "      <td>Asian/Pacific Islander</td>\n",
       "      <td>0</td>\n",
       "      <td>0</td>\n",
       "      <td>29.0</td>\n",
       "      <td>12.0</td>\n",
       "    </tr>\n",
       "    <tr>\n",
       "      <th>006a000000ys34CAAQ</th>\n",
       "      <td>2.86</td>\n",
       "      <td>5.000000</td>\n",
       "      <td>5.000000</td>\n",
       "      <td>3.000000</td>\n",
       "      <td>5.000000</td>\n",
       "      <td>CYF</td>\n",
       "      <td>Native American</td>\n",
       "      <td>0</td>\n",
       "      <td>0</td>\n",
       "      <td>34.0</td>\n",
       "      <td>1.0</td>\n",
       "    </tr>\n",
       "    <tr>\n",
       "      <th>006a000000zHwSiAAK</th>\n",
       "      <td>2.90</td>\n",
       "      <td>4.000664</td>\n",
       "      <td>4.656271</td>\n",
       "      <td>4.573324</td>\n",
       "      <td>4.452555</td>\n",
       "      <td>CYF</td>\n",
       "      <td>African American</td>\n",
       "      <td>0</td>\n",
       "      <td>1</td>\n",
       "      <td>34.0</td>\n",
       "      <td>24.0</td>\n",
       "    </tr>\n",
       "  </tbody>\n",
       "</table>\n",
       "</div>"
      ],
      "text/plain": [
       "                    undergraduate gpa  first review exp  first review sop  \\\n",
       "opportunity id                                                              \n",
       "006a000000ys36NAAQ               2.41          5.000000          5.000000   \n",
       "006a000000ys326AAA               2.78          5.000000          5.000000   \n",
       "006a000000ys2xEAAQ               2.81          5.000000          5.000000   \n",
       "006a000000ys34CAAQ               2.86          5.000000          5.000000   \n",
       "006a000000zHwSiAAK               2.90          4.000664          4.656271   \n",
       "\n",
       "                    first review gpa  first review lor  \\\n",
       "opportunity id                                           \n",
       "006a000000ys36NAAQ          5.000000          4.000000   \n",
       "006a000000ys326AAA          3.000000          5.000000   \n",
       "006a000000ys2xEAAQ          3.000000          5.000000   \n",
       "006a000000ys34CAAQ          3.000000          5.000000   \n",
       "006a000000zHwSiAAK          4.573324          4.452555   \n",
       "\n",
       "                   concentration/department interest               ethnicity  \\\n",
       "opportunity id                                                                 \n",
       "006a000000ys36NAAQ                              AMHW                 Unknown   \n",
       "006a000000ys326AAA                              AMHW               Caucasian   \n",
       "006a000000ys2xEAAQ                               CYF  Asian/Pacific Islander   \n",
       "006a000000ys34CAAQ                               CYF         Native American   \n",
       "006a000000zHwSiAAK                               CYF        African American   \n",
       "\n",
       "                   gender first generation   age  date_diff  \n",
       "opportunity id                                               \n",
       "006a000000ys36NAAQ      0                1  33.0       17.0  \n",
       "006a000000ys326AAA      0                1  56.0      105.0  \n",
       "006a000000ys2xEAAQ      0                0  29.0       12.0  \n",
       "006a000000ys34CAAQ      0                0  34.0        1.0  \n",
       "006a000000zHwSiAAK      0                1  34.0       24.0  "
      ]
     },
     "execution_count": 204,
     "metadata": {},
     "output_type": "execute_result"
    }
   ],
   "source": [
    "df_f.ethnicity = df_f.ethnicity.astype('category')\n",
    "df_f.gender = df_f.gender.astype('category')\n",
    "df_f['first generation'] = df_f['first generation'].astype('category')\n",
    "df_f['concentration/department interest'] = df_f['concentration/department interest'].astype('category')\n",
    "\n",
    "X_rCV = df_f.drop(['response',\n",
    "           'response date',\n",
    "           'date acceptance letter sent',\n",
    "           'y'], axis=1)\n",
    "y_rCV = df_f.y\n",
    "\n",
    "print(X_rCV.info())\n",
    "X_rCV.head()"
   ]
  },
  {
   "cell_type": "code",
   "execution_count": null,
   "metadata": {
    "scrolled": true
   },
   "outputs": [],
   "source": [
    "from sklearn.model_selection import cross_val_score\n",
    "from sklearn.model_selection import StratifiedShuffleSplit, GridSearchCV\n",
    "\n",
    "# Number of trees in random forest\n",
    "n_estimators = [int(x) for x in np.linspace(start = 200, stop = 2000, num = 10)]\n",
    "# Number of features to consider at every split\n",
    "max_features = ['auto', 'sqrt']\n",
    "# Maximum number of levels in tree\n",
    "max_depth = [5,7,10]\n",
    "max_depth.append(None)\n",
    "# Minimum number of samples required to split a node\n",
    "min_samples_split = [2, 5, 10]\n",
    "# Minimum number of samples required at each leaf node\n",
    "min_samples_leaf = [1, 2, 4]\n",
    "# Method of selecting samples for training each tree\n",
    "bootstrap = [True, False]\n",
    "# Create the random grid\n",
    "param_grid = {'forest__n_estimators': n_estimators,\n",
    "               'forest__max_features': max_features,\n",
    "               'forest__max_depth': max_depth,\n",
    "               'forest__min_samples_split': min_samples_split,\n",
    "               'forest__min_samples_leaf': min_samples_leaf,\n",
    "               'forest__bootstrap': bootstrap}\n",
    "\n",
    "steps = [('scaler', StandardScaler()),\n",
    "         ('forest', RandomForestClassifier())]\n",
    "\n",
    "pipeline = Pipeline(steps)\n",
    "cv = StratifiedShuffleSplit(n_splits=5, test_size=0.2, random_state=42)\n",
    "randomforest_cv = GridSearchCV(pipeline, param_grid, scoring='f1', cv=cv, verbose=2, n_jobs=5)\n",
    "\n",
    "randomforest_cv.fit(X_train, y_train)\n",
    "print(randomforest_cv.best_params_)"
   ]
  },
  {
   "cell_type": "code",
   "execution_count": 25,
   "metadata": {},
   "outputs": [
    {
     "name": "stdout",
     "output_type": "stream",
     "text": [
      "Training\n",
      " [[371  80]\n",
      " [ 90 368]]\n",
      "             precision    recall  f1-score   support\n",
      "\n",
      "          0       0.80      0.82      0.81       451\n",
      "          1       0.82      0.80      0.81       458\n",
      "\n",
      "avg / total       0.81      0.81      0.81       909\n",
      "\n",
      "Testing\n",
      " [[230  55]\n",
      " [ 69 253]]\n",
      "             precision    recall  f1-score   support\n",
      "\n",
      "          0       0.77      0.81      0.79       285\n",
      "          1       0.82      0.79      0.80       322\n",
      "\n",
      "avg / total       0.80      0.80      0.80       607\n",
      "\n"
     ]
    }
   ],
   "source": [
    "pipeline.set_params(forest__bootstrap= True,\n",
    "                    forest__max_depth= 7,\n",
    "                    forest__max_features= 'sqrt',\n",
    "                    forest__min_samples_leaf= 1,\n",
    "                    forest__min_samples_split= 10,\n",
    "                    forest__n_estimators= 200).fit(X_train, y_train)\n",
    "y_pred = pipeline.predict(X_train)\n",
    "print(\"Training\\n\", confusion_matrix(y_train, y_pred))\n",
    "print(classification_report(y_train, y_pred))\n",
    "\n",
    "y_pred = pipeline.predict(X_test)\n",
    "\n",
    "print(\"Testing\\n\", confusion_matrix(y_test, y_pred))\n",
    "print(classification_report(y_test, y_pred))"
   ]
  },
  {
   "cell_type": "code",
   "execution_count": 27,
   "metadata": {},
   "outputs": [
    {
     "data": {
      "text/plain": [
       "array([[0.17638238, 0.82361762],\n",
       "       [0.75553319, 0.24446681],\n",
       "       [0.76101852, 0.23898148],\n",
       "       ...,\n",
       "       [0.26665958, 0.73334042],\n",
       "       [0.29248042, 0.70751958],\n",
       "       [0.26504571, 0.73495429]])"
      ]
     },
     "execution_count": 27,
     "metadata": {},
     "output_type": "execute_result"
    }
   ],
   "source": [
    "y_pred_prob"
   ]
  },
  {
   "cell_type": "code",
   "execution_count": 28,
   "metadata": {},
   "outputs": [
    {
     "data": {
      "image/png": "[encoded data removed]",
      "text/plain": [
       "<Figure size 432x288 with 1 Axes>"
      ]
     },
     "metadata": {},
     "output_type": "display_data"
    },
    {
     "name": "stdout",
     "output_type": "stream",
     "text": [
      "AUC: 0.8535904979840906\n"
     ]
    }
   ],
   "source": [
    "from sklearn.metrics import roc_curve, roc_auc_score\n",
    "from sklearn.model_selection import cross_val_score\n",
    "\n",
    "y_pred_prob = pipeline.predict_proba(X_test)\n",
    "y_pred_prob_positive = y_pred_prob[:,1]\n",
    "\n",
    "fpr, tpr, threshold = roc_curve(y_test, y_pred_prob_positive)\n",
    "\n",
    "plt.plot([0,1], [0,1], 'k--')\n",
    "plt.plot(fpr, tpr, label='Random Forest')\n",
    "plt.xlabel('False Positive Rate')\n",
    "plt.ylabel('True Positive Rate')\n",
    "plt.title('Random Forest ROC Curve')\n",
    "plt.show()\n",
    "\n",
    "print('AUC: {}'.format(roc_auc_score(y_test, y_pred_prob_positive)))"
   ]
  },
  {
   "cell_type": "code",
   "execution_count": 30,
   "metadata": {},
   "outputs": [],
   "source": [
    "pd.DataFrame(y_pred_prob).to_excel('prediction_prob.xlsx')"
   ]
  }
 ],
 "metadata": {
  "kernelspec": {
   "display_name": "Python 3",
   "language": "python",
   "name": "python3"
  },
  "language_info": {
   "codemirror_mode": {
    "name": "ipython",
    "version": 3
   },
   "file_extension": ".py",
   "mimetype": "text/x-python",
   "name": "python",
   "nbconvert_exporter": "python",
   "pygments_lexer": "ipython3",
   "version": "3.6.4"
  }
 },
 "nbformat": 4,
 "nbformat_minor": 2
}
